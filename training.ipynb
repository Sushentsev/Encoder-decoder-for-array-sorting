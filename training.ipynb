{
 "cells": [
  {
   "cell_type": "markdown",
   "metadata": {},
   "source": [
    "# Encoder-Decoder архитектура на основе RNN для сортировки массива"
   ]
  },
  {
   "cell_type": "markdown",
   "metadata": {},
   "source": [
    "> Написать Encoder-Decoder архитектуру (основанную на RNN/LSTM/Transformer) для задачи сортировки чисел, используя только стандартную библиотеку Python, NumPy и библиотеки для построения графиков, если это необходимо (главным образом, не использовать различные DL фреймворки (ни Tensorflow, ни PyTorch, ни даже Keras) и библиотеки для автоматического дифференцирования). А также проверить корректность Вашей модели с помощью написанного Вами Gradient Checker'а. Обучите модель, приведите пример критерия качества для данной модели. "
   ]
  },
  {
   "cell_type": "markdown",
   "metadata": {},
   "source": [
    "В качестве `Encoder-Decoder` архитектуры была выбранная простейшая архитектура на основе `RNN`, которая имеет следующий вид"
   ]
  },
  {
   "cell_type": "markdown",
   "metadata": {},
   "source": [
    "![](encoder-decoder.png)"
   ]
  },
  {
   "cell_type": "markdown",
   "metadata": {},
   "source": [
    "На данный момент нужно указывать размер последовательности, которая подается на вход Encoder'у и которую надо генерировать Decoder'у."
   ]
  },
  {
   "cell_type": "markdown",
   "metadata": {},
   "source": [
    "Обучим модель, в качестве входных значений ($x^{<1>}$, $x^{<2>}$ и так далее) будем использовать `one-hot-vectors` для чисел. \n",
    "Выходные значения ($y^{<1>}$, $y^{<2>}$ и так далее) -- векторы длины \"количество чисел\", к которым будет применяться `softmax`, а потом считаться `cross-entropy loss`."
   ]
  },
  {
   "cell_type": "markdown",
   "metadata": {},
   "source": [
    "В качестве метрики качества будем использовать `accuracy` (долю совпавших элементов). Данная метрика далеко не идеальна, потому что не учитывает, насколько мы ошиблись на каждой позиции, но в качестве начального приближения подходит, так как все-таки позволяет понять, что происходит."
   ]
  },
  {
   "cell_type": "code",
   "execution_count": 1,
   "metadata": {},
   "outputs": [],
   "source": [
    "from tensor import Tensor\n",
    "from net import RNNSortingNet\n",
    "from one_hot_encoding import one_hot_encoding\n",
    "from cross_entropy import CrossEntropyLoss\n",
    "from optimizers import SGD\n",
    "from typing import List, Tuple\n",
    "import numpy as np\n",
    "import matplotlib.pyplot as plt"
   ]
  },
  {
   "cell_type": "code",
   "execution_count": 2,
   "metadata": {},
   "outputs": [],
   "source": [
    "SEQ_LEN = 10 # Длина последовательно (размер массива)\n",
    "INPUT_SIZE = MAX_NO = 20 # Множество значений элементов массива, то есть [0, 20)\n",
    "HIDDEN_SIZE = 100 # Размер вектора-состояния\n",
    "EPOCH_COUNT = 10_000\n",
    "BATCH_SIZE = 32"
   ]
  },
  {
   "cell_type": "code",
   "execution_count": 3,
   "metadata": {},
   "outputs": [],
   "source": [
    "def output_array(outputs: List[Tensor]) -> np.ndarray:\n",
    "    result = []\n",
    "\n",
    "    for output in outputs:\n",
    "        result.append(output.data.argmax())\n",
    "\n",
    "    return np.array(result)"
   ]
  },
  {
   "cell_type": "code",
   "execution_count": 4,
   "metadata": {},
   "outputs": [],
   "source": [
    "def generate_input_sample() -> Tuple[List[Tensor], np.ndarray]:\n",
    "    X = []\n",
    "    permutation = np.random.randint(MAX_NO, size=SEQ_LEN)\n",
    "    target = np.sort(permutation)\n",
    "\n",
    "    for element in permutation:\n",
    "        X.append(one_hot_encoding(element, INPUT_SIZE))\n",
    "        \n",
    "    return X, target"
   ]
  },
  {
   "cell_type": "code",
   "execution_count": 5,
   "metadata": {},
   "outputs": [],
   "source": [
    "VAL_SIZE = 50\n",
    "X_val, y_val = [], []\n",
    "for _ in range(VAL_SIZE):\n",
    "    X, y = generate_input_sample()\n",
    "    X_val.append(X)\n",
    "    y_val.append(y)"
   ]
  },
  {
   "cell_type": "code",
   "execution_count": 6,
   "metadata": {},
   "outputs": [],
   "source": [
    "def eval_accuracy(model, X_val, y_val):\n",
    "    accuracy = 0.0\n",
    "    for i, X in enumerate(X_val):\n",
    "        outputs = model(X)\n",
    "        result_seq = output_array(outputs)\n",
    "        accuracy += np.sum(result_seq == y_val[i]) / SEQ_LEN\n",
    "    \n",
    "    return accuracy / len(X_val)"
   ]
  },
  {
   "cell_type": "code",
   "execution_count": 7,
   "metadata": {
    "scrolled": false
   },
   "outputs": [
    {
     "name": "stdout",
     "output_type": "stream",
     "text": [
      "Epoch: 0, mean loss: 30.369896790419943\n",
      "Mean accuracy: 0.062\n",
      "Epoch: 100, mean loss: 22.489655206935804\n",
      "Mean accuracy: 0.19199999999999992\n",
      "Epoch: 200, mean loss: 21.7626944198911\n",
      "Mean accuracy: 0.19799999999999993\n",
      "Epoch: 300, mean loss: 22.63910525906617\n",
      "Mean accuracy: 0.20999999999999994\n",
      "Epoch: 400, mean loss: 22.504492323349066\n",
      "Mean accuracy: 0.20199999999999999\n",
      "Epoch: 500, mean loss: 21.706971593175513\n",
      "Mean accuracy: 0.18799999999999994\n",
      "Epoch: 600, mean loss: 19.116946099182055\n",
      "Mean accuracy: 0.24199999999999997\n",
      "Epoch: 700, mean loss: 18.62956425724203\n",
      "Mean accuracy: 0.278\n",
      "Epoch: 800, mean loss: 17.48435505907417\n",
      "Mean accuracy: 0.30800000000000005\n",
      "Epoch: 900, mean loss: 16.490171583369577\n",
      "Mean accuracy: 0.30599999999999994\n",
      "Epoch: 1000, mean loss: 15.893351634520965\n",
      "Mean accuracy: 0.2879999999999999\n",
      "Epoch: 1100, mean loss: 15.342967841544029\n",
      "Mean accuracy: 0.32599999999999996\n",
      "Epoch: 1200, mean loss: 17.466794571646552\n",
      "Mean accuracy: 0.31800000000000006\n",
      "Epoch: 1300, mean loss: 15.353625672338056\n",
      "Mean accuracy: 0.3640000000000001\n",
      "Epoch: 1400, mean loss: 16.022118162671184\n",
      "Mean accuracy: 0.3140000000000001\n",
      "Epoch: 1500, mean loss: 14.60775937326628\n",
      "Mean accuracy: 0.34800000000000003\n",
      "Epoch: 1600, mean loss: 13.845983425717494\n",
      "Mean accuracy: 0.4000000000000002\n",
      "Epoch: 1700, mean loss: 13.205042504344735\n",
      "Mean accuracy: 0.41\n",
      "Epoch: 1800, mean loss: 13.848610631836467\n",
      "Mean accuracy: 0.4260000000000002\n",
      "Epoch: 1900, mean loss: 14.697762852074623\n",
      "Mean accuracy: 0.4\n",
      "Epoch: 2000, mean loss: 12.795691909425498\n",
      "Mean accuracy: 0.4480000000000001\n",
      "Epoch: 2100, mean loss: 13.6380929123991\n",
      "Mean accuracy: 0.41600000000000004\n",
      "Epoch: 2200, mean loss: 12.939840304446586\n",
      "Mean accuracy: 0.4259999999999999\n",
      "Epoch: 2300, mean loss: 13.070813031527637\n",
      "Mean accuracy: 0.442\n",
      "Epoch: 2400, mean loss: 12.76315130887944\n",
      "Mean accuracy: 0.42199999999999993\n",
      "Epoch: 2500, mean loss: 12.221826964738042\n",
      "Mean accuracy: 0.452\n",
      "Epoch: 2600, mean loss: 13.460350544345674\n",
      "Mean accuracy: 0.45\n",
      "Epoch: 2700, mean loss: 12.23257588672718\n",
      "Mean accuracy: 0.474\n",
      "Epoch: 2800, mean loss: 12.659123424355219\n",
      "Mean accuracy: 0.46199999999999997\n",
      "Epoch: 2900, mean loss: 11.832214120077193\n",
      "Mean accuracy: 0.48200000000000004\n",
      "Epoch: 3000, mean loss: 12.288925638634398\n",
      "Mean accuracy: 0.434\n",
      "Epoch: 3100, mean loss: 11.519453294544668\n",
      "Mean accuracy: 0.4979999999999999\n",
      "Epoch: 3200, mean loss: 11.803379846664875\n",
      "Mean accuracy: 0.4819999999999999\n",
      "Epoch: 3300, mean loss: 12.454901293131291\n",
      "Mean accuracy: 0.4760000000000001\n",
      "Epoch: 3400, mean loss: 11.755804842423018\n",
      "Mean accuracy: 0.5120000000000001\n",
      "Epoch: 3500, mean loss: 11.84132793483949\n",
      "Mean accuracy: 0.4519999999999999\n",
      "Epoch: 3600, mean loss: 11.942394957103188\n",
      "Mean accuracy: 0.3920000000000001\n",
      "Epoch: 3700, mean loss: 11.478884896509074\n",
      "Mean accuracy: 0.5\n",
      "Epoch: 3800, mean loss: 11.373000940871854\n",
      "Mean accuracy: 0.504\n",
      "Epoch: 3900, mean loss: 11.13333452039967\n",
      "Mean accuracy: 0.45799999999999996\n",
      "Epoch: 4000, mean loss: 11.14795864544358\n",
      "Mean accuracy: 0.5320000000000001\n",
      "Epoch: 4100, mean loss: 11.88596893819793\n",
      "Mean accuracy: 0.5199999999999999\n",
      "Epoch: 4200, mean loss: 11.11100992497688\n",
      "Mean accuracy: 0.478\n",
      "Epoch: 4300, mean loss: 11.493323200060464\n",
      "Mean accuracy: 0.5020000000000001\n",
      "Epoch: 4400, mean loss: 11.756179456166185\n",
      "Mean accuracy: 0.506\n",
      "Epoch: 4500, mean loss: 10.37687399090158\n",
      "Mean accuracy: 0.4839999999999998\n",
      "Epoch: 4600, mean loss: 10.986928272006148\n",
      "Mean accuracy: 0.47199999999999975\n",
      "Epoch: 4700, mean loss: 11.077153494980847\n",
      "Mean accuracy: 0.506\n",
      "Epoch: 4800, mean loss: 12.16778285423079\n",
      "Mean accuracy: 0.504\n",
      "Epoch: 4900, mean loss: 10.870506643891169\n",
      "Mean accuracy: 0.506\n",
      "Epoch: 5000, mean loss: 10.640600301442348\n",
      "Mean accuracy: 0.504\n",
      "Epoch: 5100, mean loss: 10.618684777876313\n",
      "Mean accuracy: 0.49\n",
      "Epoch: 5200, mean loss: 10.776663851731891\n",
      "Mean accuracy: 0.474\n",
      "Epoch: 5300, mean loss: 10.842446642961834\n",
      "Mean accuracy: 0.5399999999999999\n",
      "Epoch: 5400, mean loss: 10.778751325615998\n",
      "Mean accuracy: 0.52\n",
      "Epoch: 5500, mean loss: 11.050035131553715\n",
      "Mean accuracy: 0.528\n",
      "Epoch: 5600, mean loss: 11.209260814021127\n",
      "Mean accuracy: 0.5300000000000001\n",
      "Epoch: 5700, mean loss: 11.458025122139192\n",
      "Mean accuracy: 0.5379999999999998\n",
      "Epoch: 5800, mean loss: 9.851386594038853\n",
      "Mean accuracy: 0.512\n",
      "Epoch: 5900, mean loss: 11.124105565955517\n",
      "Mean accuracy: 0.44\n",
      "Epoch: 6000, mean loss: 9.945504199221524\n",
      "Mean accuracy: 0.49200000000000005\n",
      "Epoch: 6100, mean loss: 10.604481234313596\n",
      "Mean accuracy: 0.4919999999999999\n",
      "Epoch: 6200, mean loss: 9.742069645203047\n",
      "Mean accuracy: 0.55\n",
      "Epoch: 6300, mean loss: 10.335864202706933\n",
      "Mean accuracy: 0.556\n",
      "Epoch: 6400, mean loss: 10.176203255451\n",
      "Mean accuracy: 0.518\n",
      "Epoch: 6500, mean loss: 10.585875300352845\n",
      "Mean accuracy: 0.5359999999999999\n",
      "Epoch: 6600, mean loss: 9.830398717761808\n",
      "Mean accuracy: 0.552\n",
      "Epoch: 6700, mean loss: 9.510520829049957\n",
      "Mean accuracy: 0.5480000000000003\n",
      "Epoch: 6800, mean loss: 9.164852862020012\n",
      "Mean accuracy: 0.5680000000000001\n",
      "Epoch: 6900, mean loss: 9.30650973274496\n",
      "Mean accuracy: 0.566\n",
      "Epoch: 7000, mean loss: 10.976274914781998\n",
      "Mean accuracy: 0.5320000000000001\n",
      "Epoch: 7100, mean loss: 11.356739120007076\n",
      "Mean accuracy: 0.5259999999999998\n",
      "Epoch: 7200, mean loss: 9.570307685264416\n",
      "Mean accuracy: 0.6020000000000002\n",
      "Epoch: 7300, mean loss: 9.037495495571033\n",
      "Mean accuracy: 0.588\n",
      "Epoch: 7400, mean loss: 8.994784083201298\n",
      "Mean accuracy: 0.5880000000000002\n",
      "Epoch: 7500, mean loss: 9.433312348481772\n",
      "Mean accuracy: 0.5920000000000001\n",
      "Epoch: 7600, mean loss: 8.850591405850444\n",
      "Mean accuracy: 0.582\n",
      "Epoch: 7700, mean loss: 10.6199407698913\n",
      "Mean accuracy: 0.5880000000000001\n",
      "Epoch: 7800, mean loss: 10.027251341161028\n",
      "Mean accuracy: 0.5239999999999999\n",
      "Epoch: 7900, mean loss: 8.767187106894289\n",
      "Mean accuracy: 0.6220000000000002\n",
      "Epoch: 8000, mean loss: 8.943392992513456\n",
      "Mean accuracy: 0.6099999999999999\n",
      "Epoch: 8100, mean loss: 9.327389000098501\n",
      "Mean accuracy: 0.6060000000000002\n",
      "Epoch: 8200, mean loss: 9.153811915577627\n",
      "Mean accuracy: 0.5840000000000001\n",
      "Epoch: 8300, mean loss: 9.403813416206159\n",
      "Mean accuracy: 0.6240000000000001\n",
      "Epoch: 8400, mean loss: 8.857390847907018\n",
      "Mean accuracy: 0.6160000000000001\n",
      "Epoch: 8500, mean loss: 8.901253699084423\n",
      "Mean accuracy: 0.5740000000000001\n",
      "Epoch: 8600, mean loss: 8.564286290212435\n",
      "Mean accuracy: 0.5920000000000001\n",
      "Epoch: 8700, mean loss: 7.989942011326525\n",
      "Mean accuracy: 0.616\n",
      "Epoch: 8800, mean loss: 9.315203887925218\n",
      "Mean accuracy: 0.6000000000000001\n",
      "Epoch: 8900, mean loss: 8.590833022171964\n",
      "Mean accuracy: 0.5880000000000001\n",
      "Epoch: 9000, mean loss: 9.446754166916568\n",
      "Mean accuracy: 0.584\n",
      "Epoch: 9100, mean loss: 8.923493364950255\n",
      "Mean accuracy: 0.602\n",
      "Epoch: 9200, mean loss: 9.02496498128701\n",
      "Mean accuracy: 0.6200000000000001\n",
      "Epoch: 9300, mean loss: 8.510264437353207\n",
      "Mean accuracy: 0.6060000000000002\n",
      "Epoch: 9400, mean loss: 8.14178555865345\n",
      "Mean accuracy: 0.6080000000000001\n",
      "Epoch: 9500, mean loss: 8.326861032149676\n",
      "Mean accuracy: 0.5920000000000001\n",
      "Epoch: 9600, mean loss: 9.64210171192188\n",
      "Mean accuracy: 0.5680000000000001\n",
      "Epoch: 9700, mean loss: 8.873012999891678\n",
      "Mean accuracy: 0.5540000000000002\n",
      "Epoch: 9800, mean loss: 8.828553843428029\n",
      "Mean accuracy: 0.6080000000000001\n",
      "Epoch: 9900, mean loss: 9.636883450248504\n",
      "Mean accuracy: 0.586\n"
     ]
    }
   ],
   "source": [
    "net = RNNSortingNet(INPUT_SIZE, HIDDEN_SIZE, SEQ_LEN)\n",
    "optimizer = SGD(net.parameters, lr=0.01)\n",
    "loss_function = CrossEntropyLoss()\n",
    "\n",
    "accuracies, loses = [], []\n",
    "\n",
    "for epoch in range(EPOCH_COUNT):\n",
    "    optimizer.zero_grad()\n",
    "    sum_loss = 0.\n",
    "        \n",
    "    for batch in range(BATCH_SIZE):\n",
    "        X, target = generate_input_sample()\n",
    "        outputs = net(X)\n",
    "        loss = loss_function(outputs, target)\n",
    "        loss.backward()\n",
    "\n",
    "        result_seq = output_array(outputs)\n",
    "        sum_loss += loss.data\n",
    "        \n",
    "        for param in net.parameters:\n",
    "            param.grad = param.grad / BATCH_SIZE\n",
    "\n",
    "        optimizer.step()\n",
    "        \n",
    "    if epoch % 100 == 0:\n",
    "        acc = eval_accuracy(net, X_val, y_val)\n",
    "        mean_loss = sum_loss[0, 0] / BATCH_SIZE\n",
    "        print(f'Epoch: {epoch}, mean loss: {mean_loss}')\n",
    "        print(f'Mean accuracy: {acc}')\n",
    "        accuracies.append(acc) \n",
    "        loses.append(mean_loss)"
   ]
  },
  {
   "cell_type": "markdown",
   "metadata": {},
   "source": [
    "Можем увидеть, что обучение есть, `loss` падает, а `accuracy` постепенно растет."
   ]
  },
  {
   "cell_type": "code",
   "execution_count": 12,
   "metadata": {},
   "outputs": [
    {
     "data": {
      "image/png": "[encoded data removed]",
      "text/plain": [
       "<Figure size 1080x504 with 2 Axes>"
      ]
     },
     "metadata": {
      "needs_background": "light"
     },
     "output_type": "display_data"
    }
   ],
   "source": [
    "fig, (ax1, ax2) = plt.subplots(nrows=1, ncols=2, figsize=(15, 7))\n",
    "x = np.arange(0, EPOCH_COUNT, 100)\n",
    "ax1.plot(x, loses)\n",
    "ax1.set_title('График функции потерь')\n",
    "ax1.set_xlabel('Эпоха')\n",
    "ax1.set_ylabel('Функция потерь')\n",
    "\n",
    "ax2.plot(x, accuracies)\n",
    "ax2.set_title('График метрики accuracy')\n",
    "ax2.set_xlabel('Эпоха')\n",
    "ax2.set_ylabel('Accuracy');"
   ]
  },
  {
   "cell_type": "markdown",
   "metadata": {},
   "source": [
    "Сгенерируем себе 10 примеров, чтобы посмотреть, что получилось\n",
    "- `Original` -- перестановка (входные данные)\n",
    "- `Sorted` -- отсортированная перестановка\n",
    "- `Net output` -- результат работы нейронной сети на `Original`"
   ]
  },
  {
   "cell_type": "code",
   "execution_count": 13,
   "metadata": {
    "scrolled": false
   },
   "outputs": [
    {
     "name": "stdout",
     "output_type": "stream",
     "text": [
      "Example 1:\n",
      "[11  8 19  7 14 16  8 14 13 15] <--- Original\n",
      "[ 7  8  8 11 13 14 14 15 16 19] <--- Sorted\n",
      "[ 6  7  9 10 13 14 14 15 16 17] <--- Net output\n",
      "\n",
      "Example 2:\n",
      "[18  7  8  4  7 11  2  4  9 19] <--- Original\n",
      "[ 2  4  4  7  7  8  9 11 18 19] <--- Sorted\n",
      "[ 2  3  5  6  7  7  9 10 17 19] <--- Net output\n",
      "\n",
      "Example 3:\n",
      "[ 3  6  2  7 12 19  3 10  6 14] <--- Original\n",
      "[ 2  3  3  6  6  7 10 12 14 19] <--- Sorted\n",
      "[ 2  3  3  5  6  7  9 12 14 17] <--- Net output\n",
      "\n",
      "Example 4:\n",
      "[ 3 15  4  2  6  6 19 19 10  6] <--- Original\n",
      "[ 2  3  4  6  6  6 10 15 19 19] <--- Sorted\n",
      "[ 2  3  4  5  6  7  8 14 17 19] <--- Net output\n",
      "\n",
      "Example 5:\n",
      "[13 13  5 10  0  0 12  9 10 15] <--- Original\n",
      "[ 0  0  5  9 10 10 12 13 13 15] <--- Sorted\n",
      "[ 0  0  4  8 10 11 12 13 13 14] <--- Net output\n",
      "\n",
      "Example 6:\n",
      "[ 8 13  0  8 14 11 10  8  0 14] <--- Original\n",
      "[ 0  0  8  8  8 10 11 13 14 14] <--- Sorted\n",
      "[ 0  0  7  8  9 10 12 13 14 15] <--- Net output\n",
      "\n",
      "Example 7:\n",
      "[ 7 10  8  7  4  3  2  0  9  3] <--- Original\n",
      "[ 0  2  3  3  4  7  7  8  9 10] <--- Sorted\n",
      "[ 0  2  3  3  4  6  7  8  9 13] <--- Net output\n",
      "\n",
      "Example 8:\n",
      "[ 0 13  4 17  9  4 12 17  8 11] <--- Original\n",
      "[ 0  4  4  8  9 11 12 13 17 17] <--- Sorted\n",
      "[ 0  4  5  7 10 10 12 13 16 19] <--- Net output\n",
      "\n",
      "Example 9:\n",
      "[14 13  0 17  9 11 16  1 10 11] <--- Original\n",
      "[ 0  1  9 10 11 11 13 14 16 17] <--- Sorted\n",
      "[ 0  1  9 10 11 12 14 14 16 18] <--- Net output\n",
      "\n",
      "Example 10:\n",
      "[ 6 19 13 17 16 10 14 19  9  8] <--- Original\n",
      "[ 6  8  9 10 13 14 16 17 19 19] <--- Sorted\n",
      "[ 6  7  8 10 13 14 16 17 18 19] <--- Net output\n",
      "\n"
     ]
    }
   ],
   "source": [
    "for i in range(10):\n",
    "    X = []\n",
    "    permutation = np.random.randint(MAX_NO, size=SEQ_LEN)\n",
    "    target = np.sort(permutation)\n",
    "\n",
    "    for element in permutation:\n",
    "        X.append(one_hot_encoding(element, INPUT_SIZE))\n",
    "        \n",
    "    outputs = net(X)\n",
    "    result_seq = output_array(outputs)\n",
    "    \n",
    "    print(f'Example {i + 1}:')\n",
    "    print(f'{permutation} <--- Original')\n",
    "    print(f'{target} <--- Sorted')\n",
    "    print(f'{result_seq} <--- Net output')\n",
    "    print()"
   ]
  },
  {
   "cell_type": "code",
   "execution_count": null,
   "metadata": {},
   "outputs": [],
   "source": []
  }
 ],
 "metadata": {
  "kernelspec": {
   "display_name": "Python 3",
   "language": "python",
   "name": "python3"
  },
  "language_info": {
   "codemirror_mode": {
    "name": "ipython",
    "version": 3
   },
   "file_extension": ".py",
   "mimetype": "text/x-python",
   "name": "python",
   "nbconvert_exporter": "python",
   "pygments_lexer": "ipython3",
   "version": "3.8.5"
  }
 },
 "nbformat": 4,
 "nbformat_minor": 4
}
